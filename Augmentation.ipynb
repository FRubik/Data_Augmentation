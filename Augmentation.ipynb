{
 "cells": [
  {
   "cell_type": "code",
   "execution_count": null,
   "metadata": {},
   "outputs": [],
   "source": [
    "# importar os pacotes necessários\n",
    "import os\n",
    "import glob\n",
    "import numpy as np\n",
    "import matplotlib.pyplot as plt\n",
    "from keras.preprocessing.image import load_img\n",
    "from keras.preprocessing.image import img_to_array\n",
    "from keras.preprocessing.image import ImageDataGenerator"
   ]
  },
  {
   "cell_type": "code",
   "execution_count": null,
   "metadata": {},
   "outputs": [],
   "source": [
    "# definir caminhos da imagem original e diretório do output\n",
    "IMAGE_PATH = \"gato.png\"\n",
    "OUTPUT_PATH = \"Aug/\""
   ]
  },
  {
   "cell_type": "code",
   "execution_count": null,
   "metadata": {},
   "outputs": [],
   "source": [
    "img = load_img(IMAGE_PATH)\n",
    "plt.figure(figsize = (10,10))\n",
    "plt.imshow(img)"
   ]
  },
  {
   "cell_type": "code",
   "execution_count": null,
   "metadata": {},
   "outputs": [],
   "source": [
    "# carregar a imagem original e converter em array\n",
    "image = load_img(IMAGE_PATH)\n",
    "image = img_to_array(image)"
   ]
  },
  {
   "cell_type": "code",
   "execution_count": null,
   "metadata": {},
   "outputs": [],
   "source": [
    "# adicionar uma dimensão extra no array\n",
    "image = np.expand_dims(image, axis = 0)"
   ]
  },
  {
   "cell_type": "code",
   "execution_count": null,
   "metadata": {},
   "outputs": [],
   "source": [
    "# criar um gerador (generator) com as imagens do\n",
    "# data augmentation\n",
    "imgAug = ImageDataGenerator(rotation_range = 45, width_shift_range = 0.1,\n",
    "                            height_shift_range = 0.1, zoom_range = 0.25,\n",
    "                            fill_mode = 'nearest', horizontal_flip = True,\n",
    "                           vertical_flip = True)\n",
    "\n",
    "imgGen = imgAug.flow(image, save_to_dir = OUTPUT_PATH,\n",
    "                     save_format = 'jpg', save_prefix = 'AUG')"
   ]
  },
  {
   "cell_type": "code",
   "execution_count": null,
   "metadata": {},
   "outputs": [],
   "source": [
    "# gerar 9 imagens por data augmentation\n",
    "counter = 0\n",
    "for (i, newImage) in enumerate(imgGen):\n",
    "    counter += 1\n",
    " \n",
    "    # ao gerar 9 imagens, parar o loop\n",
    "    if counter == 9:\n",
    "        break"
   ]
  },
  {
   "cell_type": "code",
   "execution_count": null,
   "metadata": {},
   "outputs": [],
   "source": [
    "# ler arquivos de um diretório\n",
    "os.chdir(OUTPUT_PATH)\n",
    "files=glob.glob(\"*.jpg\")"
   ]
  },
  {
   "cell_type": "code",
   "execution_count": null,
   "metadata": {},
   "outputs": [],
   "source": [
    "### Take a look at the data\n",
    "fig = plt.figure(figsize=(17,12))\n",
    "for j in range(0,9):\n",
    "    img = load_img(files[j])\n",
    "    fig.add_subplot(3, 3, j+1).imshow(img)\n",
    "    plt.axis(\"off\")\n",
    "    plt.title(files[j])    "
   ]
  },
  {
   "cell_type": "code",
   "execution_count": null,
   "metadata": {},
   "outputs": [],
   "source": []
  }
 ],
 "metadata": {
  "kernelspec": {
   "display_name": "Python 3",
   "language": "python",
   "name": "python3"
  },
  "language_info": {
   "codemirror_mode": {
    "name": "ipython",
    "version": 3
   },
   "file_extension": ".py",
   "mimetype": "text/x-python",
   "name": "python",
   "nbconvert_exporter": "python",
   "pygments_lexer": "ipython3",
   "version": "3.8.6"
  }
 },
 "nbformat": 4,
 "nbformat_minor": 4
}
